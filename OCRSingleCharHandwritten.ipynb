{
 "cells": [
  {
   "cell_type": "markdown",
   "id": "84ba9cb0-b15c-4753-86a9-8f096718cc0d",
   "metadata": {},
   "source": [
    "### Adapted from Cursive Handwriting Recognition System  Using Feature Extraction and \n",
    "Artificial Neural Network<br />a[Link text](3\n",
    "https://www.irjet.net/archives/V4/i3/IRJET-V4I3576.p)df"
   ]
  },
  {
   "cell_type": "code",
   "execution_count": null,
   "id": "316c346f-c633-4d36-a39a-bbc1c9e08a7e",
   "metadata": {},
   "outputs": [
    {
     "name": "stdout",
     "output_type": "stream",
     "text": [
      "WARNING:tensorflow:From E:\\Programs\\anaconda3\\envs\\py310\\lib\\site-packages\\keras\\src\\losses.py:2976: The name tf.losses.sparse_softmax_cross_entropy is deprecated. Please use tf.compat.v1.losses.sparse_softmax_cross_entropy instead.\n",
      "\n"
     ]
    }
   ],
   "source": [
    "import os\n",
    "import tensorflow as tf\n",
    "\n",
    "absolute_path = os.path.dirname(os.getcwd())\n",
    "relative_path = \"dataset\\characters\"\n",
    "char_dataset = os.path.join(absolute_path, relative_path)\n"
   ]
  },
  {
   "cell_type": "code",
   "execution_count": null,
   "id": "ed20b1cd-2a52-4182-a5b0-24967303b3d6",
   "metadata": {},
   "outputs": [],
   "source": [
    "#Make more training dataset - data augmentation\n",
    "def visualize(original, augmented):\n",
    "    fig = plt.figure()\n",
    "    plt.subplot(1,2,1)\n",
    "    plt.title('Original image')\n",
    "    plt.imshow(original)\n",
    "\n",
    "    plt.subplot(1,2,2)\n",
    "    plt.title('Augmented image')\n",
    "    plt.imshow(augmented)\n",
    "    flipped = tf.image.flip_left_right(image)\n",
    "    visualize(image, flipped)\n",
    "\n",
    "def augment(image, label):\n",
    "  image = tf.cast(image, tf.float32)\n",
    "  image = tf.image.resize(image, [IMG_SIZE, IMG_SIZE])\n",
    "  image = (image / 255.0)\n",
    "  image = tf.image.random_crop(image, size=[IMG_SIZE, IMG_SIZE, 3])\n",
    "  image = tf.image.random_brightness(image, max_delta=0.5)\n",
    "  return image, label\n",
    "\n",
    "(train_ds, val_ds, test_ds), metadata = tfds.load(\n",
    "    'tf_flowers',\n",
    "     split=['train[:80%]', 'train[80%:90%]', 'train[90%:]'],\n",
    "     with_info=True,\n",
    "     as_supervised=True,)\n",
    "\n",
    "train_ds = train_ds\n",
    "            .shuffle(1000)\n",
    "            .map(augment, num_parallel_calls=tf.data.experimental.AUTOTUNE)\n",
    "            .batch(batch_size)\n",
    "            .prefetch(AUTOTUNE)\n",
    "data_augmentation = tf.keras.Sequential([\n",
    "     layers.experimental.preprocessing.RandomFlip(\"horizontal_and_vertical\"),\n",
    "     layers.experimental.preprocessing.RandomRotation(0.2)])\n",
    "\n",
    "image = tf.expand_dims(image, 0)\n",
    "plt.figure(figsize=(10, 10))\n",
    "\n",
    "for i in range(9):\n",
    "  augmented_image = data_augmentation(image)\n",
    "  ax = plt.subplot(3, 3, i + 1)\n",
    "  plt.imshow(augmented_image[0])\n",
    "  plt.axis(\"off\")"
   ]
  }
 ],
 "metadata": {
  "kernelspec": {
   "display_name": "Python 3 (ipykernel)",
   "language": "python",
   "name": "python3"
  },
  "language_info": {
   "codemirror_mode": {
    "name": "ipython",
    "version": 3
   },
   "file_extension": ".py",
   "mimetype": "text/x-python",
   "name": "python",
   "nbconvert_exporter": "python",
   "pygments_lexer": "ipython3",
   "version": "3.10.9"
  }
 },
 "nbformat": 4,
 "nbformat_minor": 5
}
